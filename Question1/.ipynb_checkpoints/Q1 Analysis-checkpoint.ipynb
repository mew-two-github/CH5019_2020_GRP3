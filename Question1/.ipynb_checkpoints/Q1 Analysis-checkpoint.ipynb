{
 "cells": [
  {
   "cell_type": "code",
   "execution_count": 35,
   "metadata": {},
   "outputs": [],
   "source": [
    "f = open(\".\\\\Dataset_Question1\\\\1\\\\1.pgm\",'rb')"
   ]
  },
  {
   "cell_type": "markdown",
   "metadata": {},
   "source": [
    "Realized that the first line contained P5 followed by the dimensions. Decided to store the dimensions in a List"
   ]
  },
  {
   "cell_type": "code",
   "execution_count": 36,
   "metadata": {},
   "outputs": [
    {
     "name": "stdout",
     "output_type": "stream",
     "text": [
      "[64, 64, 255]\n"
     ]
    }
   ],
   "source": [
    "dim = []\n",
    "for i in f.readline().split():\n",
    "    try:\n",
    "        dim.append(int(i))\n",
    "    except:\n",
    "        continue\n",
    "print(dim)"
   ]
  },
  {
   "cell_type": "code",
   "execution_count": 37,
   "metadata": {},
   "outputs": [],
   "source": [
    "import numpy as np\n",
    "img_matrix = np.ndarray(shape = (dim[1],dim[0]),dtype='int32')\n",
    "for x in range(dim[1]):\n",
    "    for y in range(dim[0]):\n",
    "        img_matrix[x,y] = (ord(f.read(1)))"
   ]
  },
  {
   "cell_type": "code",
   "execution_count": 67,
   "metadata": {
    "scrolled": true
   },
   "outputs": [
    {
     "ename": "NameError",
     "evalue": "name 'img_matrix' is not defined",
     "output_type": "error",
     "traceback": [
      "\u001b[1;31m---------------------------------------------------------------------------\u001b[0m",
      "\u001b[1;31mNameError\u001b[0m                                 Traceback (most recent call last)",
      "\u001b[1;32m<ipython-input-67-2ac853c1c47b>\u001b[0m in \u001b[0;36m<module>\u001b[1;34m\u001b[0m\n\u001b[0;32m      1\u001b[0m \u001b[1;31m#display the image\u001b[0m\u001b[1;33m\u001b[0m\u001b[1;33m\u001b[0m\u001b[1;33m\u001b[0m\u001b[0m\n\u001b[0;32m      2\u001b[0m \u001b[1;32mimport\u001b[0m \u001b[0mmatplotlib\u001b[0m\u001b[1;33m.\u001b[0m\u001b[0mpyplot\u001b[0m \u001b[1;32mas\u001b[0m \u001b[0mplt\u001b[0m\u001b[1;33m\u001b[0m\u001b[1;33m\u001b[0m\u001b[0m\n\u001b[1;32m----> 3\u001b[1;33m \u001b[0mplt\u001b[0m\u001b[1;33m.\u001b[0m\u001b[0mimshow\u001b[0m\u001b[1;33m(\u001b[0m\u001b[0mimg_matrix\u001b[0m\u001b[1;33m,\u001b[0m\u001b[0mcmap\u001b[0m\u001b[1;33m=\u001b[0m\u001b[1;34m'Gray'\u001b[0m\u001b[1;33m)\u001b[0m\u001b[1;33m\u001b[0m\u001b[1;33m\u001b[0m\u001b[0m\n\u001b[0m",
      "\u001b[1;31mNameError\u001b[0m: name 'img_matrix' is not defined"
     ]
    }
   ],
   "source": [
    "#display the image\n",
    "import matplotlib.pyplot as plt\n",
    "plt.imshow(img_matrix,cmap='Gray')"
   ]
  },
  {
   "cell_type": "code",
   "execution_count": 68,
   "metadata": {},
   "outputs": [],
   "source": [
    "import numpy as np\n",
    "import matplotlib.pyplot as plt\n",
    "\n",
    "def read_pgm(path,img_matrix):\n",
    "    f = open(path,'rb')\n",
    "    dim = []\n",
    "    for i in f.readline().split():\n",
    "        try:\n",
    "            dim.append(int(i))\n",
    "        except:\n",
    "            continue\n",
    "    print(dim)\n",
    "    img_matrix = np.ndarray(shape = (dim[1],dim[0]),dtype='int32')\n",
    "    for x in range(dim[1]):\n",
    "        for y in range(dim[0]):\n",
    "            img_matrix[x,y] = (ord(f.read(1)))\n",
    "    return img_matrix"
   ]
  },
  {
   "cell_type": "code",
   "execution_count": 69,
   "metadata": {},
   "outputs": [
    {
     "name": "stdout",
     "output_type": "stream",
     "text": [
      "[64, 64, 255]\n"
     ]
    },
    {
     "data": {
      "image/png": "[encoded data removed]",
      "text/plain": [
       "<Figure size 432x288 with 1 Axes>"
      ]
     },
     "metadata": {
      "needs_background": "light"
     },
     "output_type": "display_data"
    }
   ],
   "source": [
    "matrix1 = np.ndarray(shape = (1,1),dtype='int32')\n",
    "matrix1 = read_pgm(\".\\\\Dataset_Question1\\\\1\\\\1.pgm\",matrix1)"
   ]
  },
  {
   "cell_type": "code",
   "execution_count": 15,
   "metadata": {},
   "outputs": [
    {
     "data": {
      "text/plain": [
       "array([[48, 46, 47, ..., 53, 55, 53],\n",
       "       [47, 45, 49, ..., 48, 49, 50],\n",
       "       [46, 47, 48, ..., 37, 46, 51],\n",
       "       ...,\n",
       "       [48, 48, 49, ..., 47, 45, 48],\n",
       "       [48, 49, 48, ..., 45, 46, 46],\n",
       "       [50, 51, 47, ..., 44, 47, 46]])"
      ]
     },
     "execution_count": 15,
     "metadata": {},
     "output_type": "execute_result"
    }
   ],
   "source": [
    "matrix1"
   ]
  },
  {
   "cell_type": "code",
   "execution_count": 3,
   "metadata": {},
   "outputs": [],
   "source": [
    "u, s, vh = np.linalg.svd(matrix1, full_matrices=True)"
   ]
  },
  {
   "cell_type": "code",
   "execution_count": 70,
   "metadata": {},
   "outputs": [
    {
     "data": {
      "text/plain": [
       "array([[-0.06043686, -0.06042756,  0.020095  , ...,  0.01112226,\n",
       "        -0.0231352 ,  0.05250808],\n",
       "       [-0.06170776, -0.0409787 ,  0.07928644, ...,  0.02385447,\n",
       "        -0.02558025, -0.03663428],\n",
       "       [-0.06380965, -0.04848244,  0.04886572, ..., -0.09366373,\n",
       "         0.02738657, -0.00913511],\n",
       "       ...,\n",
       "       [-0.12078667,  0.12749531,  0.1656775 , ...,  0.06252289,\n",
       "         0.18923241, -0.08171646],\n",
       "       [-0.11902588,  0.13004349,  0.15348926, ...,  0.09182911,\n",
       "        -0.1535741 ,  0.09551922],\n",
       "       [-0.1181822 ,  0.13738273,  0.16214472, ...,  0.03714871,\n",
       "         0.09161545,  0.01887066]])"
      ]
     },
     "execution_count": 70,
     "metadata": {},
     "output_type": "execute_result"
    }
   ],
   "source": [
    "u"
   ]
  },
  {
   "cell_type": "code",
   "execution_count": 56,
   "metadata": {},
   "outputs": [
    {
     "data": {
      "text/plain": [
       "(64,)"
      ]
     },
     "execution_count": 56,
     "metadata": {},
     "output_type": "execute_result"
    }
   ],
   "source": [
    "s.shape"
   ]
  },
  {
   "cell_type": "code",
   "execution_count": 20,
   "metadata": {
    "collapsed": true
   },
   "outputs": [
    {
     "data": {
      "text/plain": [
       "array([[-0.06484754, -0.06754103, -0.06533266, ..., -0.06411243,\n",
       "        -0.05995942, -0.05525207],\n",
       "       [-0.17866737, -0.22589874, -0.22496537, ..., -0.23243387,\n",
       "        -0.18188416, -0.13223914],\n",
       "       [ 0.13364965,  0.17191416,  0.16677699, ...,  0.1357076 ,\n",
       "         0.13203307,  0.11417074],\n",
       "       ...,\n",
       "       [ 0.02190459,  0.06611291, -0.00490006, ...,  0.02031739,\n",
       "        -0.08027214,  0.03401242],\n",
       "       [ 0.00874111, -0.00795575,  0.05492068, ..., -0.025446  ,\n",
       "         0.02394296,  0.03182001],\n",
       "       [ 0.07712903,  0.04916682, -0.05906216, ..., -0.08432886,\n",
       "        -0.04998374,  0.00929623]])"
      ]
     },
     "execution_count": 20,
     "metadata": {},
     "output_type": "execute_result"
    }
   ],
   "source": [
    "vh"
   ]
  },
  {
   "cell_type": "code",
   "execution_count": 36,
   "metadata": {
    "collapsed": true
   },
   "outputs": [
    {
     "data": {
      "text/plain": [
       "[<matplotlib.lines.Line2D at 0x23679c42898>]"
      ]
     },
     "execution_count": 36,
     "metadata": {},
     "output_type": "execute_result"
    },
    {
     "data": {
      "image/png": "[encoded data removed]",
      "text/plain": [
       "<Figure size 432x288 with 1 Axes>"
      ]
     },
     "metadata": {
      "needs_background": "light"
     },
     "output_type": "display_data"
    }
   ],
   "source": [
    "plt.plot(s)"
   ]
  },
  {
   "cell_type": "markdown",
   "metadata": {},
   "source": [
    "So only less than 10 singular values actually matter to reconstruct the matrix, we can consider the rest to be just noise."
   ]
  },
  {
   "cell_type": "code",
   "execution_count": 87,
   "metadata": {},
   "outputs": [
    {
     "data": {
      "text/plain": [
       "21"
      ]
     },
     "execution_count": 87,
     "metadata": {},
     "output_type": "execute_result"
    }
   ],
   "source": [
    "total = np.sum(s)\n",
    "turn_pt = 0\n",
    "i = 0\n",
    "while turn_pt <= 0.94*total:\n",
    "    turn_pt = turn_pt + s[i]\n",
    "    i += 1\n",
    "i"
   ]
  },
  {
   "cell_type": "markdown",
   "metadata": {},
   "source": [
    "After running through a lot of percentages and checking the change in i, I concluded that 94% is a good cut off point"
   ]
  },
  {
   "cell_type": "code",
   "execution_count": 52,
   "metadata": {},
   "outputs": [],
   "source": [
    "stopping_point = i + 1"
   ]
  },
  {
   "cell_type": "code",
   "execution_count": 90,
   "metadata": {},
   "outputs": [
    {
     "name": "stdout",
     "output_type": "stream",
     "text": [
      "(64, 64)\n"
     ]
    },
    {
     "data": {
      "text/plain": [
       "array([[49.253918, 48.157795, 45.976593, ..., 53.669556, 54.40552 ,\n",
       "        51.78533 ],\n",
       "       [44.10497 , 43.19441 , 47.863712, ..., 46.546745, 50.35597 ,\n",
       "        51.718525],\n",
       "       [48.342125, 42.113045, 48.23709 , ..., 36.37058 , 47.252934,\n",
       "        51.23887 ],\n",
       "       ...,\n",
       "       [48.102943, 45.36279 , 45.702106, ..., 48.084667, 46.873497,\n",
       "        48.59398 ],\n",
       "       [47.18846 , 46.315926, 51.93912 , ..., 46.916813, 44.91999 ,\n",
       "        46.523514],\n",
       "       [50.09043 , 50.494797, 53.175064, ..., 46.973793, 42.853516,\n",
       "        45.117626]], dtype=float32)"
      ]
     },
     "execution_count": 90,
     "metadata": {},
     "output_type": "execute_result"
    }
   ],
   "source": [
    "reduced_matrix = np.zeros(shape = (64,64),dtype='float32') \n",
    "for i in range(21):\n",
    "    for j in range(64):\n",
    "        for k in range(64):\n",
    "            reduced_matrix[j,k] = reduced_matrix[j,k] + (s[i])*u[j,i]*(vh[i,k])\n",
    "print(reduced_matrix.shape)\n",
    "reduced_matrix"
   ]
  },
  {
   "cell_type": "code",
   "execution_count": 95,
   "metadata": {},
   "outputs": [
    {
     "data": {
      "text/plain": [
       "<matplotlib.image.AxesImage at 0x1ee867f54e0>"
      ]
     },
     "execution_count": 95,
     "metadata": {},
     "output_type": "execute_result"
    },
    {
     "data": {
      "image/png": "[encoded data removed]",
      "text/plain": [
       "<Figure size 432x288 with 1 Axes>"
      ]
     },
     "metadata": {
      "needs_background": "light"
     },
     "output_type": "display_data"
    }
   ],
   "source": [
    "plt.imshow(reduced_matrix,cmap='gray')"
   ]
  },
  {
   "cell_type": "code",
   "execution_count": null,
   "metadata": {},
   "outputs": [],
   "source": [
    "# plot images with different number of components\n",
    "comps = [1, 5, 10, 15, 20, 25 ]\n",
    "\n",
    "plt.figure(figsize = (16, 8))\n",
    "for i in range(6):\n",
    "    low_rank = u[:, :comps[i]] @ np.diag(s[:comps[i]]) @ vh[:comps[i], :]\n",
    "    plt.subplot(2, 3, i+1), plt.imshow(low_rank, cmap = 'gray'), plt.axis('off'), plt.title(\"n_components =\" + str(comps[i]))"
   ]
  },
  {
   "cell_type": "code",
   "execution_count": 114,
   "metadata": {},
   "outputs": [],
   "source": [
    "def matrix_reduction(img_matrix):\n",
    "    u, s, vh = np.linalg.svd(img_matrix)\n",
    "    total = sum(s)\n",
    "    partial_sum = 0\n",
    "    i = 0\n",
    "    while partial_sum < 0.94*total:\n",
    "        partial_sum += s[i]\n",
    "        i += 1\n",
    "    elbow = i\n",
    "    reduced_matrix = np.ndarray(shape = (64,64), dtype = 'float32')\n",
    "    for i in range(elbow):\n",
    "        for j in range(64):\n",
    "            for k in range(64):\n",
    "                reduced_matrix[j,k] = reduced_matrix[j,k] + (s[i])*u[j,i]*(vh[i,k])\n",
    "    return reduced_matrix"
   ]
  },
  {
   "cell_type": "code",
   "execution_count": null,
   "metadata": {},
   "outputs": [],
   "source": [
    "plt.figure(figsize=(20,20))\n",
    "plt.subplot(5,2,1)\n",
    "for i in range(10):\n",
    "    matrix = np.ndarray(shape=(0,0), dtype = 'float32')\n",
    "    matrix = read_pgm('.\\\\Dataset_Question1\\\\1\\\\'+str(i+1)+'.pgm',matrix)\n",
    "    plt.subplot(5,2,i+1)"
   ]
  },
  {
   "cell_type": "markdown",
   "metadata": {},
   "source": [
    "<b> Forming the Representative image </b>"
   ]
  },
  {
   "cell_type": "code",
   "execution_count": 122,
   "metadata": {},
   "outputs": [
    {
     "name": "stdout",
     "output_type": "stream",
     "text": [
      "[64, 64, 255]\n",
      "[64, 64, 255]\n",
      "[64, 64, 255]\n",
      "[64, 64, 255]\n",
      "[64, 64, 255]\n",
      "[64, 64, 255]\n",
      "[64, 64, 255]\n",
      "[64, 64, 255]\n",
      "[64, 64, 255]\n",
      "[64, 64, 255]\n"
     ]
    },
    {
     "data": {
      "text/plain": [
       "<matplotlib.image.AxesImage at 0x1ee86cee128>"
      ]
     },
     "execution_count": 122,
     "metadata": {},
     "output_type": "execute_result"
    },
    {
     "data": {
      "image/png": "[encoded data removed]",
      "text/plain": [
       "<Figure size 432x288 with 1 Axes>"
      ]
     },
     "metadata": {
      "needs_background": "light"
     },
     "output_type": "display_data"
    }
   ],
   "source": [
    "rep_image = np.zeros(shape=(64,64), dtype = 'float32')\n",
    "for i in range(10):\n",
    "    matrix = np.ndarray(shape=(64,64), dtype = 'float32')\n",
    "    matrix = read_pgm('.\\\\Dataset_Question1\\\\1\\\\'+str(i+1)+'.pgm',matrix)\n",
    "    reduced_matrix = matrix_reduction(matrix)\n",
    "    rep_image = rep_image + reduced_matrix/10 #Giving equal weightage to each image\n",
    "plt.imshow(rep_image,cmap='gray')"
   ]
  },
  {
   "cell_type": "code",
   "execution_count": 124,
   "metadata": {},
   "outputs": [
    {
     "name": "stdout",
     "output_type": "stream",
     "text": [
      "[64, 64, 255]\n",
      "[64, 64, 255]\n",
      "[64, 64, 255]\n",
      "[64, 64, 255]\n",
      "[64, 64, 255]\n",
      "[64, 64, 255]\n",
      "[64, 64, 255]\n",
      "[64, 64, 255]\n",
      "[64, 64, 255]\n",
      "[64, 64, 255]\n"
     ]
    },
    {
     "data": {
      "text/plain": [
       "<matplotlib.image.AxesImage at 0x1ee86bd2860>"
      ]
     },
     "execution_count": 124,
     "metadata": {},
     "output_type": "execute_result"
    },
    {
     "data": {
      "image/png": "[encoded data removed]",
      "text/plain": [
       "<Figure size 432x288 with 1 Axes>"
      ]
     },
     "metadata": {
      "needs_background": "light"
     },
     "output_type": "display_data"
    }
   ],
   "source": [
    "rep_image = np.zeros(shape=(64,64), dtype = 'float32')\n",
    "for i in range(10):\n",
    "    matrix = np.ndarray(shape=(64,64), dtype = 'float32')\n",
    "    matrix = read_pgm('.\\\\Dataset_Question1\\\\3\\\\'+str(i+1)+'.pgm',matrix)\n",
    "    reduced_matrix = matrix_reduction(matrix)\n",
    "    rep_image = rep_image + reduced_matrix/10 #Giving equal weightage to each image\n",
    "plt.imshow(rep_image,cmap='gray')"
   ]
  },
  {
   "cell_type": "code",
   "execution_count": null,
   "metadata": {},
   "outputs": [],
   "source": []
  }
 ],
 "metadata": {
  "kernelspec": {
   "display_name": "Python 3",
   "language": "python",
   "name": "python3"
  },
  "language_info": {
   "codemirror_mode": {
    "name": "ipython",
    "version": 3
   },
   "file_extension": ".py",
   "mimetype": "text/x-python",
   "name": "python",
   "nbconvert_exporter": "python",
   "pygments_lexer": "ipython3",
   "version": "3.7.3"
  }
 },
 "nbformat": 4,
 "nbformat_minor": 2
}
