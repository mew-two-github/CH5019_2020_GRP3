{
 "cells": [
  {
   "cell_type": "code",
   "execution_count": 1,
   "metadata": {},
   "outputs": [],
   "source": [
    "import pandas as pd\n",
    "import matplotlib.pyplot as plt\n",
    "import numpy as np\n",
    "AgeGroupDetails = pd.read_csv('./Dataset_Question3/AgeGroupDetails.csv')\n",
    "Covid_19_india = pd.read_csv('./Dataset_Question3/Covid_19_india.csv')\n",
    "HospitalBedsIndia = pd.read_csv('./Dataset_Question3/HospitalBedsIndia.csv')\n",
    "ICMRTestingDetails = pd.read_csv('./Dataset_Question3/ICMRTestingDetails.csv')\n",
    "IndividualDetails = pd.read_csv('./Dataset_Question3/IndividualDetails.csv')\n",
    "Population_india_census2011 = pd.read_csv('./Dataset_Question3/Population_india_census2011.csv')"
   ]
  },
  {
   "cell_type": "code",
   "execution_count": null,
   "metadata": {},
   "outputs": [],
   "source": []
  }
 ],
 "metadata": {
  "kernelspec": {
   "display_name": "Python 3",
   "language": "python",
   "name": "python3"
  },
  "language_info": {
   "codemirror_mode": {
    "name": "ipython",
    "version": 3
   },
   "file_extension": ".py",
   "mimetype": "text/x-python",
   "name": "python",
   "nbconvert_exporter": "python",
   "pygments_lexer": "ipython3",
   "version": "3.7.3"
  }
 },
 "nbformat": 4,
 "nbformat_minor": 2
}
