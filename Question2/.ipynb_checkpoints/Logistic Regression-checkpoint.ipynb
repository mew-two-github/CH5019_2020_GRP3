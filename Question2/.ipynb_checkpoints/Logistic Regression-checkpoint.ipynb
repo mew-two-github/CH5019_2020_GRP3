{
 "cells": [
  {
   "cell_type": "code",
   "execution_count": 6,
   "metadata": {},
   "outputs": [],
   "source": [
    "import pandas as pd\n",
    "import numpy as np\n",
    "import math\n",
    "import matplotlib.pyplot as plt\n",
    "import seaborn as sns"
   ]
  },
  {
   "cell_type": "code",
   "execution_count": 15,
   "metadata": {},
   "outputs": [],
   "source": [
    "data=pd.read_excel('Dataset_Question2.xlsx')"
   ]
  },
  {
   "cell_type": "code",
   "execution_count": 8,
   "metadata": {},
   "outputs": [
    {
     "data": {
      "text/html": [
       "<div>\n",
       "<style scoped>\n",
       "    .dataframe tbody tr th:only-of-type {\n",
       "        vertical-align: middle;\n",
       "    }\n",
       "\n",
       "    .dataframe tbody tr th {\n",
       "        vertical-align: top;\n",
       "    }\n",
       "\n",
       "    .dataframe thead th {\n",
       "        text-align: right;\n",
       "    }\n",
       "</style>\n",
       "<table border=\"1\" class=\"dataframe\">\n",
       "  <thead>\n",
       "    <tr style=\"text-align: right;\">\n",
       "      <th></th>\n",
       "      <th>Temperature</th>\n",
       "      <th>Pressure</th>\n",
       "      <th>Feed Flow rate</th>\n",
       "      <th>Coolant Flow rate</th>\n",
       "      <th>Inlet reactant concentration</th>\n",
       "      <th>Test</th>\n",
       "    </tr>\n",
       "  </thead>\n",
       "  <tbody>\n",
       "    <tr>\n",
       "      <th>0</th>\n",
       "      <td>406.86</td>\n",
       "      <td>17.66</td>\n",
       "      <td>121.83</td>\n",
       "      <td>2109.20</td>\n",
       "      <td>0.1033</td>\n",
       "      <td>Pass</td>\n",
       "    </tr>\n",
       "    <tr>\n",
       "      <th>1</th>\n",
       "      <td>693.39</td>\n",
       "      <td>24.66</td>\n",
       "      <td>133.18</td>\n",
       "      <td>3138.96</td>\n",
       "      <td>0.3785</td>\n",
       "      <td>Pass</td>\n",
       "    </tr>\n",
       "    <tr>\n",
       "      <th>2</th>\n",
       "      <td>523.10</td>\n",
       "      <td>23.23</td>\n",
       "      <td>146.55</td>\n",
       "      <td>1058.24</td>\n",
       "      <td>0.4799</td>\n",
       "      <td>Fail</td>\n",
       "    </tr>\n",
       "    <tr>\n",
       "      <th>3</th>\n",
       "      <td>612.86</td>\n",
       "      <td>40.97</td>\n",
       "      <td>94.44</td>\n",
       "      <td>1325.12</td>\n",
       "      <td>0.3147</td>\n",
       "      <td>Fail</td>\n",
       "    </tr>\n",
       "    <tr>\n",
       "      <th>4</th>\n",
       "      <td>500.28</td>\n",
       "      <td>37.44</td>\n",
       "      <td>185.48</td>\n",
       "      <td>2474.51</td>\n",
       "      <td>0.2284</td>\n",
       "      <td>Pass</td>\n",
       "    </tr>\n",
       "  </tbody>\n",
       "</table>\n",
       "</div>"
      ],
      "text/plain": [
       "   Temperature  Pressure  Feed Flow rate  Coolant Flow rate  \\\n",
       "0       406.86     17.66          121.83            2109.20   \n",
       "1       693.39     24.66          133.18            3138.96   \n",
       "2       523.10     23.23          146.55            1058.24   \n",
       "3       612.86     40.97           94.44            1325.12   \n",
       "4       500.28     37.44          185.48            2474.51   \n",
       "\n",
       "   Inlet reactant concentration  Test  \n",
       "0                        0.1033  Pass  \n",
       "1                        0.3785  Pass  \n",
       "2                        0.4799  Fail  \n",
       "3                        0.3147  Fail  \n",
       "4                        0.2284  Pass  "
      ]
     },
     "execution_count": 8,
     "metadata": {},
     "output_type": "execute_result"
    }
   ],
   "source": [
    "data.head()"
   ]
  },
  {
   "cell_type": "code",
   "execution_count": 9,
   "metadata": {},
   "outputs": [
    {
     "data": {
      "text/plain": [
       "(1000, 6)"
      ]
     },
     "execution_count": 9,
     "metadata": {},
     "output_type": "execute_result"
    }
   ],
   "source": [
    "data.shape"
   ]
  },
  {
   "cell_type": "code",
   "execution_count": 10,
   "metadata": {},
   "outputs": [
    {
     "data": {
      "text/plain": [
       "count     1000\n",
       "unique       2\n",
       "top       Pass\n",
       "freq       585\n",
       "Name: Test, dtype: object"
      ]
     },
     "execution_count": 10,
     "metadata": {},
     "output_type": "execute_result"
    }
   ],
   "source": [
    "data['Test'].describe()"
   ]
  },
  {
   "cell_type": "code",
   "execution_count": 8,
   "metadata": {},
   "outputs": [
    {
     "data": {
      "text/html": [
       "<div>\n",
       "<style scoped>\n",
       "    .dataframe tbody tr th:only-of-type {\n",
       "        vertical-align: middle;\n",
       "    }\n",
       "\n",
       "    .dataframe tbody tr th {\n",
       "        vertical-align: top;\n",
       "    }\n",
       "\n",
       "    .dataframe thead th {\n",
       "        text-align: right;\n",
       "    }\n",
       "</style>\n",
       "<table border=\"1\" class=\"dataframe\">\n",
       "  <thead>\n",
       "    <tr style=\"text-align: right;\">\n",
       "      <th></th>\n",
       "      <th>Temperature</th>\n",
       "      <th>Pressure</th>\n",
       "      <th>Feed Flow rate</th>\n",
       "      <th>Coolant Flow rate</th>\n",
       "      <th>Inlet reactant concentration</th>\n",
       "    </tr>\n",
       "  </thead>\n",
       "  <tbody>\n",
       "    <tr>\n",
       "      <td>count</td>\n",
       "      <td>1000.00000</td>\n",
       "      <td>1000.000000</td>\n",
       "      <td>1000.000000</td>\n",
       "      <td>1000.000000</td>\n",
       "      <td>1000.000000</td>\n",
       "    </tr>\n",
       "    <tr>\n",
       "      <td>mean</td>\n",
       "      <td>546.76643</td>\n",
       "      <td>25.493270</td>\n",
       "      <td>125.029060</td>\n",
       "      <td>2295.797770</td>\n",
       "      <td>0.302692</td>\n",
       "    </tr>\n",
       "    <tr>\n",
       "      <td>std</td>\n",
       "      <td>86.85878</td>\n",
       "      <td>14.252407</td>\n",
       "      <td>43.508159</td>\n",
       "      <td>763.680625</td>\n",
       "      <td>0.116062</td>\n",
       "    </tr>\n",
       "    <tr>\n",
       "      <td>min</td>\n",
       "      <td>400.31000</td>\n",
       "      <td>1.060000</td>\n",
       "      <td>50.030000</td>\n",
       "      <td>1002.530000</td>\n",
       "      <td>0.100300</td>\n",
       "    </tr>\n",
       "    <tr>\n",
       "      <td>25%</td>\n",
       "      <td>469.73500</td>\n",
       "      <td>12.725000</td>\n",
       "      <td>88.587500</td>\n",
       "      <td>1635.682500</td>\n",
       "      <td>0.199075</td>\n",
       "    </tr>\n",
       "    <tr>\n",
       "      <td>50%</td>\n",
       "      <td>545.80000</td>\n",
       "      <td>25.375000</td>\n",
       "      <td>124.590000</td>\n",
       "      <td>2268.710000</td>\n",
       "      <td>0.308850</td>\n",
       "    </tr>\n",
       "    <tr>\n",
       "      <td>75%</td>\n",
       "      <td>618.87750</td>\n",
       "      <td>37.820000</td>\n",
       "      <td>162.562500</td>\n",
       "      <td>2983.692500</td>\n",
       "      <td>0.401625</td>\n",
       "    </tr>\n",
       "    <tr>\n",
       "      <td>max</td>\n",
       "      <td>699.87000</td>\n",
       "      <td>49.890000</td>\n",
       "      <td>199.960000</td>\n",
       "      <td>3595.620000</td>\n",
       "      <td>0.499600</td>\n",
       "    </tr>\n",
       "  </tbody>\n",
       "</table>\n",
       "</div>"
      ],
      "text/plain": [
       "       Temperature     Pressure  Feed Flow rate  Coolant Flow rate  \\\n",
       "count   1000.00000  1000.000000     1000.000000        1000.000000   \n",
       "mean     546.76643    25.493270      125.029060        2295.797770   \n",
       "std       86.85878    14.252407       43.508159         763.680625   \n",
       "min      400.31000     1.060000       50.030000        1002.530000   \n",
       "25%      469.73500    12.725000       88.587500        1635.682500   \n",
       "50%      545.80000    25.375000      124.590000        2268.710000   \n",
       "75%      618.87750    37.820000      162.562500        2983.692500   \n",
       "max      699.87000    49.890000      199.960000        3595.620000   \n",
       "\n",
       "       Inlet reactant concentration  \n",
       "count                   1000.000000  \n",
       "mean                       0.302692  \n",
       "std                        0.116062  \n",
       "min                        0.100300  \n",
       "25%                        0.199075  \n",
       "50%                        0.308850  \n",
       "75%                        0.401625  \n",
       "max                        0.499600  "
      ]
     },
     "execution_count": 8,
     "metadata": {},
     "output_type": "execute_result"
    }
   ],
   "source": [
    "data.describe()"
   ]
  },
  {
   "cell_type": "code",
   "execution_count": 16,
   "metadata": {},
   "outputs": [
    {
     "data": {
      "text/html": [
       "<div>\n",
       "<style scoped>\n",
       "    .dataframe tbody tr th:only-of-type {\n",
       "        vertical-align: middle;\n",
       "    }\n",
       "\n",
       "    .dataframe tbody tr th {\n",
       "        vertical-align: top;\n",
       "    }\n",
       "\n",
       "    .dataframe thead th {\n",
       "        text-align: right;\n",
       "    }\n",
       "</style>\n",
       "<table border=\"1\" class=\"dataframe\">\n",
       "  <thead>\n",
       "    <tr style=\"text-align: right;\">\n",
       "      <th></th>\n",
       "      <th>Temperature</th>\n",
       "      <th>Pressure</th>\n",
       "      <th>Feed Flow rate</th>\n",
       "      <th>Coolant Flow rate</th>\n",
       "      <th>Inlet reactant concentration</th>\n",
       "      <th>Test</th>\n",
       "    </tr>\n",
       "  </thead>\n",
       "  <tbody>\n",
       "    <tr>\n",
       "      <th>0</th>\n",
       "      <td>406.86</td>\n",
       "      <td>17.66</td>\n",
       "      <td>121.83</td>\n",
       "      <td>2109.20</td>\n",
       "      <td>0.1033</td>\n",
       "      <td>1</td>\n",
       "    </tr>\n",
       "    <tr>\n",
       "      <th>1</th>\n",
       "      <td>693.39</td>\n",
       "      <td>24.66</td>\n",
       "      <td>133.18</td>\n",
       "      <td>3138.96</td>\n",
       "      <td>0.3785</td>\n",
       "      <td>1</td>\n",
       "    </tr>\n",
       "    <tr>\n",
       "      <th>2</th>\n",
       "      <td>523.10</td>\n",
       "      <td>23.23</td>\n",
       "      <td>146.55</td>\n",
       "      <td>1058.24</td>\n",
       "      <td>0.4799</td>\n",
       "      <td>0</td>\n",
       "    </tr>\n",
       "    <tr>\n",
       "      <th>3</th>\n",
       "      <td>612.86</td>\n",
       "      <td>40.97</td>\n",
       "      <td>94.44</td>\n",
       "      <td>1325.12</td>\n",
       "      <td>0.3147</td>\n",
       "      <td>0</td>\n",
       "    </tr>\n",
       "    <tr>\n",
       "      <th>4</th>\n",
       "      <td>500.28</td>\n",
       "      <td>37.44</td>\n",
       "      <td>185.48</td>\n",
       "      <td>2474.51</td>\n",
       "      <td>0.2284</td>\n",
       "      <td>1</td>\n",
       "    </tr>\n",
       "  </tbody>\n",
       "</table>\n",
       "</div>"
      ],
      "text/plain": [
       "   Temperature  Pressure  Feed Flow rate  Coolant Flow rate  \\\n",
       "0       406.86     17.66          121.83            2109.20   \n",
       "1       693.39     24.66          133.18            3138.96   \n",
       "2       523.10     23.23          146.55            1058.24   \n",
       "3       612.86     40.97           94.44            1325.12   \n",
       "4       500.28     37.44          185.48            2474.51   \n",
       "\n",
       "   Inlet reactant concentration  Test  \n",
       "0                        0.1033     1  \n",
       "1                        0.3785     1  \n",
       "2                        0.4799     0  \n",
       "3                        0.3147     0  \n",
       "4                        0.2284     1  "
      ]
     },
     "execution_count": 16,
     "metadata": {},
     "output_type": "execute_result"
    }
   ],
   "source": [
    "row, cols = data.shape\n",
    "for i in range(row):\n",
    "    if data.iloc[i,cols-1]=='Pass':\n",
    "        data.iloc[i,cols-1] = 1\n",
    "    else:\n",
    "        data.iloc[i,cols-1] = 0\n",
    "data.head()"
   ]
  },
  {
   "cell_type": "code",
   "execution_count": 12,
   "metadata": {},
   "outputs": [
    {
     "data": {
      "text/plain": [
       "<matplotlib.axes._subplots.AxesSubplot at 0x233dee4bd08>"
      ]
     },
     "execution_count": 12,
     "metadata": {},
     "output_type": "execute_result"
    },
    {
     "data": {
      "image/png": "[encoded data removed]",
      "text/plain": [
       "<Figure size 432x288 with 2 Axes>"
      ]
     },
     "metadata": {
      "needs_background": "light"
     },
     "output_type": "display_data"
    }
   ],
   "source": [
    "corr_mat=data.corr()\n",
    "sns.heatmap(corr_mat)"
   ]
  },
  {
   "cell_type": "code",
   "execution_count": 13,
   "metadata": {},
   "outputs": [
    {
     "data": {
      "text/html": [
       "<style  type=\"text/css\" >\n",
       "    #T_0e1ec040_89f2_11ea_bb14_0c9d92570618row0_col0 {\n",
       "            background-color:  #b40426;\n",
       "            color:  #f1f1f1;\n",
       "        }    #T_0e1ec040_89f2_11ea_bb14_0c9d92570618row0_col1 {\n",
       "            background-color:  #4b64d5;\n",
       "            color:  #f1f1f1;\n",
       "        }    #T_0e1ec040_89f2_11ea_bb14_0c9d92570618row0_col2 {\n",
       "            background-color:  #506bda;\n",
       "            color:  #000000;\n",
       "        }    #T_0e1ec040_89f2_11ea_bb14_0c9d92570618row0_col3 {\n",
       "            background-color:  #3c4ec2;\n",
       "            color:  #f1f1f1;\n",
       "        }    #T_0e1ec040_89f2_11ea_bb14_0c9d92570618row0_col4 {\n",
       "            background-color:  #516ddb;\n",
       "            color:  #000000;\n",
       "        }    #T_0e1ec040_89f2_11ea_bb14_0c9d92570618row0_col5 {\n",
       "            background-color:  #516ddb;\n",
       "            color:  #000000;\n",
       "        }    #T_0e1ec040_89f2_11ea_bb14_0c9d92570618row1_col0 {\n",
       "            background-color:  #4257c9;\n",
       "            color:  #f1f1f1;\n",
       "        }    #T_0e1ec040_89f2_11ea_bb14_0c9d92570618row1_col1 {\n",
       "            background-color:  #b40426;\n",
       "            color:  #f1f1f1;\n",
       "        }    #T_0e1ec040_89f2_11ea_bb14_0c9d92570618row1_col2 {\n",
       "            background-color:  #516ddb;\n",
       "            color:  #000000;\n",
       "        }    #T_0e1ec040_89f2_11ea_bb14_0c9d92570618row1_col3 {\n",
       "            background-color:  #4358cb;\n",
       "            color:  #f1f1f1;\n",
       "        }    #T_0e1ec040_89f2_11ea_bb14_0c9d92570618row1_col4 {\n",
       "            background-color:  #3c4ec2;\n",
       "            color:  #f1f1f1;\n",
       "        }    #T_0e1ec040_89f2_11ea_bb14_0c9d92570618row1_col5 {\n",
       "            background-color:  #465ecf;\n",
       "            color:  #f1f1f1;\n",
       "        }    #T_0e1ec040_89f2_11ea_bb14_0c9d92570618row2_col0 {\n",
       "            background-color:  #3b4cc0;\n",
       "            color:  #f1f1f1;\n",
       "        }    #T_0e1ec040_89f2_11ea_bb14_0c9d92570618row2_col1 {\n",
       "            background-color:  #455cce;\n",
       "            color:  #f1f1f1;\n",
       "        }    #T_0e1ec040_89f2_11ea_bb14_0c9d92570618row2_col2 {\n",
       "            background-color:  #b40426;\n",
       "            color:  #f1f1f1;\n",
       "        }    #T_0e1ec040_89f2_11ea_bb14_0c9d92570618row2_col3 {\n",
       "            background-color:  #3b4cc0;\n",
       "            color:  #f1f1f1;\n",
       "        }    #T_0e1ec040_89f2_11ea_bb14_0c9d92570618row2_col4 {\n",
       "            background-color:  #3b4cc0;\n",
       "            color:  #f1f1f1;\n",
       "        }    #T_0e1ec040_89f2_11ea_bb14_0c9d92570618row2_col5 {\n",
       "            background-color:  #3b4cc0;\n",
       "            color:  #f1f1f1;\n",
       "        }    #T_0e1ec040_89f2_11ea_bb14_0c9d92570618row3_col0 {\n",
       "            background-color:  #4257c9;\n",
       "            color:  #f1f1f1;\n",
       "        }    #T_0e1ec040_89f2_11ea_bb14_0c9d92570618row3_col1 {\n",
       "            background-color:  #536edd;\n",
       "            color:  #000000;\n",
       "        }    #T_0e1ec040_89f2_11ea_bb14_0c9d92570618row3_col2 {\n",
       "            background-color:  #5673e0;\n",
       "            color:  #000000;\n",
       "        }    #T_0e1ec040_89f2_11ea_bb14_0c9d92570618row3_col3 {\n",
       "            background-color:  #b40426;\n",
       "            color:  #f1f1f1;\n",
       "        }    #T_0e1ec040_89f2_11ea_bb14_0c9d92570618row3_col4 {\n",
       "            background-color:  #4c66d6;\n",
       "            color:  #000000;\n",
       "        }    #T_0e1ec040_89f2_11ea_bb14_0c9d92570618row3_col5 {\n",
       "            background-color:  #f08b6e;\n",
       "            color:  #000000;\n",
       "        }    #T_0e1ec040_89f2_11ea_bb14_0c9d92570618row4_col0 {\n",
       "            background-color:  #4a63d3;\n",
       "            color:  #f1f1f1;\n",
       "        }    #T_0e1ec040_89f2_11ea_bb14_0c9d92570618row4_col1 {\n",
       "            background-color:  #3e51c5;\n",
       "            color:  #f1f1f1;\n",
       "        }    #T_0e1ec040_89f2_11ea_bb14_0c9d92570618row4_col2 {\n",
       "            background-color:  #4961d2;\n",
       "            color:  #f1f1f1;\n",
       "        }    #T_0e1ec040_89f2_11ea_bb14_0c9d92570618row4_col3 {\n",
       "            background-color:  #3f53c6;\n",
       "            color:  #f1f1f1;\n",
       "        }    #T_0e1ec040_89f2_11ea_bb14_0c9d92570618row4_col4 {\n",
       "            background-color:  #b40426;\n",
       "            color:  #f1f1f1;\n",
       "        }    #T_0e1ec040_89f2_11ea_bb14_0c9d92570618row4_col5 {\n",
       "            background-color:  #5673e0;\n",
       "            color:  #000000;\n",
       "        }    #T_0e1ec040_89f2_11ea_bb14_0c9d92570618row5_col0 {\n",
       "            background-color:  #3c4ec2;\n",
       "            color:  #f1f1f1;\n",
       "        }    #T_0e1ec040_89f2_11ea_bb14_0c9d92570618row5_col1 {\n",
       "            background-color:  #3b4cc0;\n",
       "            color:  #f1f1f1;\n",
       "        }    #T_0e1ec040_89f2_11ea_bb14_0c9d92570618row5_col2 {\n",
       "            background-color:  #3b4cc0;\n",
       "            color:  #f1f1f1;\n",
       "        }    #T_0e1ec040_89f2_11ea_bb14_0c9d92570618row5_col3 {\n",
       "            background-color:  #f39577;\n",
       "            color:  #000000;\n",
       "        }    #T_0e1ec040_89f2_11ea_bb14_0c9d92570618row5_col4 {\n",
       "            background-color:  #485fd1;\n",
       "            color:  #f1f1f1;\n",
       "        }    #T_0e1ec040_89f2_11ea_bb14_0c9d92570618row5_col5 {\n",
       "            background-color:  #b40426;\n",
       "            color:  #f1f1f1;\n",
       "        }</style><table id=\"T_0e1ec040_89f2_11ea_bb14_0c9d92570618\" ><thead>    <tr>        <th class=\"blank level0\" ></th>        <th class=\"col_heading level0 col0\" >Temperature</th>        <th class=\"col_heading level0 col1\" >Pressure</th>        <th class=\"col_heading level0 col2\" >Feed Flow rate</th>        <th class=\"col_heading level0 col3\" >Coolant Flow rate</th>        <th class=\"col_heading level0 col4\" >Inlet reactant concentration</th>        <th class=\"col_heading level0 col5\" >Test</th>    </tr></thead><tbody>\n",
       "                <tr>\n",
       "                        <th id=\"T_0e1ec040_89f2_11ea_bb14_0c9d92570618level0_row0\" class=\"row_heading level0 row0\" >Temperature</th>\n",
       "                        <td id=\"T_0e1ec040_89f2_11ea_bb14_0c9d92570618row0_col0\" class=\"data row0 col0\" >1</td>\n",
       "                        <td id=\"T_0e1ec040_89f2_11ea_bb14_0c9d92570618row0_col1\" class=\"data row0 col1\" >0.0097</td>\n",
       "                        <td id=\"T_0e1ec040_89f2_11ea_bb14_0c9d92570618row0_col2\" class=\"data row0 col2\" >-0.015</td>\n",
       "                        <td id=\"T_0e1ec040_89f2_11ea_bb14_0c9d92570618row0_col3\" class=\"data row0 col3\" >0.012</td>\n",
       "                        <td id=\"T_0e1ec040_89f2_11ea_bb14_0c9d92570618row0_col4\" class=\"data row0 col4\" >0.04</td>\n",
       "                        <td id=\"T_0e1ec040_89f2_11ea_bb14_0c9d92570618row0_col5\" class=\"data row0 col5\" >-0.0084</td>\n",
       "            </tr>\n",
       "            <tr>\n",
       "                        <th id=\"T_0e1ec040_89f2_11ea_bb14_0c9d92570618level0_row1\" class=\"row_heading level0 row1\" >Pressure</th>\n",
       "                        <td id=\"T_0e1ec040_89f2_11ea_bb14_0c9d92570618row1_col0\" class=\"data row1 col0\" >0.0097</td>\n",
       "                        <td id=\"T_0e1ec040_89f2_11ea_bb14_0c9d92570618row1_col1\" class=\"data row1 col1\" >1</td>\n",
       "                        <td id=\"T_0e1ec040_89f2_11ea_bb14_0c9d92570618row1_col2\" class=\"data row1 col2\" >-0.0084</td>\n",
       "                        <td id=\"T_0e1ec040_89f2_11ea_bb14_0c9d92570618row1_col3\" class=\"data row1 col3\" >0.037</td>\n",
       "                        <td id=\"T_0e1ec040_89f2_11ea_bb14_0c9d92570618row1_col4\" class=\"data row1 col4\" >-0.036</td>\n",
       "                        <td id=\"T_0e1ec040_89f2_11ea_bb14_0c9d92570618row1_col5\" class=\"data row1 col5\" >-0.049</td>\n",
       "            </tr>\n",
       "            <tr>\n",
       "                        <th id=\"T_0e1ec040_89f2_11ea_bb14_0c9d92570618level0_row2\" class=\"row_heading level0 row2\" >Feed Flow rate</th>\n",
       "                        <td id=\"T_0e1ec040_89f2_11ea_bb14_0c9d92570618row2_col0\" class=\"data row2 col0\" >-0.015</td>\n",
       "                        <td id=\"T_0e1ec040_89f2_11ea_bb14_0c9d92570618row2_col1\" class=\"data row2 col1\" >-0.0084</td>\n",
       "                        <td id=\"T_0e1ec040_89f2_11ea_bb14_0c9d92570618row2_col2\" class=\"data row2 col2\" >1</td>\n",
       "                        <td id=\"T_0e1ec040_89f2_11ea_bb14_0c9d92570618row2_col3\" class=\"data row2 col3\" >0.0074</td>\n",
       "                        <td id=\"T_0e1ec040_89f2_11ea_bb14_0c9d92570618row2_col4\" class=\"data row2 col4\" >-0.041</td>\n",
       "                        <td id=\"T_0e1ec040_89f2_11ea_bb14_0c9d92570618row2_col5\" class=\"data row2 col5\" >-0.093</td>\n",
       "            </tr>\n",
       "            <tr>\n",
       "                        <th id=\"T_0e1ec040_89f2_11ea_bb14_0c9d92570618level0_row3\" class=\"row_heading level0 row3\" >Coolant Flow rate</th>\n",
       "                        <td id=\"T_0e1ec040_89f2_11ea_bb14_0c9d92570618row3_col0\" class=\"data row3 col0\" >0.012</td>\n",
       "                        <td id=\"T_0e1ec040_89f2_11ea_bb14_0c9d92570618row3_col1\" class=\"data row3 col1\" >0.037</td>\n",
       "                        <td id=\"T_0e1ec040_89f2_11ea_bb14_0c9d92570618row3_col2\" class=\"data row3 col2\" >0.0074</td>\n",
       "                        <td id=\"T_0e1ec040_89f2_11ea_bb14_0c9d92570618row3_col3\" class=\"data row3 col3\" >1</td>\n",
       "                        <td id=\"T_0e1ec040_89f2_11ea_bb14_0c9d92570618row3_col4\" class=\"data row3 col4\" >0.024</td>\n",
       "                        <td id=\"T_0e1ec040_89f2_11ea_bb14_0c9d92570618row3_col5\" class=\"data row3 col5\" >0.76</td>\n",
       "            </tr>\n",
       "            <tr>\n",
       "                        <th id=\"T_0e1ec040_89f2_11ea_bb14_0c9d92570618level0_row4\" class=\"row_heading level0 row4\" >Inlet reactant concentration</th>\n",
       "                        <td id=\"T_0e1ec040_89f2_11ea_bb14_0c9d92570618row4_col0\" class=\"data row4 col0\" >0.04</td>\n",
       "                        <td id=\"T_0e1ec040_89f2_11ea_bb14_0c9d92570618row4_col1\" class=\"data row4 col1\" >-0.036</td>\n",
       "                        <td id=\"T_0e1ec040_89f2_11ea_bb14_0c9d92570618row4_col2\" class=\"data row4 col2\" >-0.041</td>\n",
       "                        <td id=\"T_0e1ec040_89f2_11ea_bb14_0c9d92570618row4_col3\" class=\"data row4 col3\" >0.024</td>\n",
       "                        <td id=\"T_0e1ec040_89f2_11ea_bb14_0c9d92570618row4_col4\" class=\"data row4 col4\" >1</td>\n",
       "                        <td id=\"T_0e1ec040_89f2_11ea_bb14_0c9d92570618row4_col5\" class=\"data row4 col5\" >0.0082</td>\n",
       "            </tr>\n",
       "            <tr>\n",
       "                        <th id=\"T_0e1ec040_89f2_11ea_bb14_0c9d92570618level0_row5\" class=\"row_heading level0 row5\" >Test</th>\n",
       "                        <td id=\"T_0e1ec040_89f2_11ea_bb14_0c9d92570618row5_col0\" class=\"data row5 col0\" >-0.0084</td>\n",
       "                        <td id=\"T_0e1ec040_89f2_11ea_bb14_0c9d92570618row5_col1\" class=\"data row5 col1\" >-0.049</td>\n",
       "                        <td id=\"T_0e1ec040_89f2_11ea_bb14_0c9d92570618row5_col2\" class=\"data row5 col2\" >-0.093</td>\n",
       "                        <td id=\"T_0e1ec040_89f2_11ea_bb14_0c9d92570618row5_col3\" class=\"data row5 col3\" >0.76</td>\n",
       "                        <td id=\"T_0e1ec040_89f2_11ea_bb14_0c9d92570618row5_col4\" class=\"data row5 col4\" >0.0082</td>\n",
       "                        <td id=\"T_0e1ec040_89f2_11ea_bb14_0c9d92570618row5_col5\" class=\"data row5 col5\" >1</td>\n",
       "            </tr>\n",
       "    </tbody></table>"
      ],
      "text/plain": [
       "<pandas.io.formats.style.Styler at 0x233ded63808>"
      ]
     },
     "execution_count": 13,
     "metadata": {},
     "output_type": "execute_result"
    }
   ],
   "source": [
    "corr_mat.style.background_gradient(cmap='coolwarm').set_precision(2)"
   ]
  },
  {
   "cell_type": "code",
   "execution_count": 30,
   "metadata": {},
   "outputs": [],
   "source": [
    "def confusion_matrix(y_true,y_pred):\n",
    "    tot=y_true.shape[0]\n",
    "    cfm={}\n",
    "    tp,tn,fp,fn=0,0,0,0\n",
    "    for i in range(tot):\n",
    "        if y_true[i] == y_pred[i]:\n",
    "            if y_true[i]==1:\n",
    "                tp+=1\n",
    "            else:\n",
    "                tn+=1\n",
    "        else:\n",
    "            if y_pred[i]==1:\n",
    "                fp+=1\n",
    "            else:\n",
    "                fn+=1\n",
    "    \n",
    "    cfm['tp']=tp\n",
    "    cfm['tn']=tn\n",
    "    cfm['fp']=fp\n",
    "    cfm['fn']=fn\n",
    "    return  cfm"
   ]
  },
  {
   "cell_type": "code",
   "execution_count": 17,
   "metadata": {},
   "outputs": [],
   "source": [
    "#normalising the data\n",
    "for column in data.columns:\n",
    "    if column == 'Test':\n",
    "        break\n",
    "    mean = data[column].mean()\n",
    "    variance = data[column].var()\n",
    "    data[column] = (data[column]-mean)/np.sqrt(variance)"
   ]
  },
  {
   "cell_type": "code",
   "execution_count": 18,
   "metadata": {},
   "outputs": [
    {
     "data": {
      "text/html": [
       "<div>\n",
       "<style scoped>\n",
       "    .dataframe tbody tr th:only-of-type {\n",
       "        vertical-align: middle;\n",
       "    }\n",
       "\n",
       "    .dataframe tbody tr th {\n",
       "        vertical-align: top;\n",
       "    }\n",
       "\n",
       "    .dataframe thead th {\n",
       "        text-align: right;\n",
       "    }\n",
       "</style>\n",
       "<table border=\"1\" class=\"dataframe\">\n",
       "  <thead>\n",
       "    <tr style=\"text-align: right;\">\n",
       "      <th></th>\n",
       "      <th>Temperature</th>\n",
       "      <th>Pressure</th>\n",
       "      <th>Feed Flow rate</th>\n",
       "      <th>Coolant Flow rate</th>\n",
       "      <th>Inlet reactant concentration</th>\n",
       "      <th>Test</th>\n",
       "    </tr>\n",
       "  </thead>\n",
       "  <tbody>\n",
       "    <tr>\n",
       "      <th>count</th>\n",
       "      <td>1.000000e+03</td>\n",
       "      <td>1.000000e+03</td>\n",
       "      <td>1.000000e+03</td>\n",
       "      <td>1.000000e+03</td>\n",
       "      <td>1.000000e+03</td>\n",
       "      <td>1000.000000</td>\n",
       "    </tr>\n",
       "    <tr>\n",
       "      <th>mean</th>\n",
       "      <td>1.094680e-15</td>\n",
       "      <td>2.059908e-15</td>\n",
       "      <td>5.720202e-15</td>\n",
       "      <td>3.753664e-15</td>\n",
       "      <td>-1.909806e-15</td>\n",
       "      <td>0.585000</td>\n",
       "    </tr>\n",
       "    <tr>\n",
       "      <th>std</th>\n",
       "      <td>1.000000e+00</td>\n",
       "      <td>1.000000e+00</td>\n",
       "      <td>1.000000e+00</td>\n",
       "      <td>1.000000e+00</td>\n",
       "      <td>1.000000e+00</td>\n",
       "      <td>0.492969</td>\n",
       "    </tr>\n",
       "    <tr>\n",
       "      <th>min</th>\n",
       "      <td>-1.686144e+00</td>\n",
       "      <td>-1.714326e+00</td>\n",
       "      <td>-1.723793e+00</td>\n",
       "      <td>-1.693467e+00</td>\n",
       "      <td>-1.743823e+00</td>\n",
       "      <td>0.000000</td>\n",
       "    </tr>\n",
       "    <tr>\n",
       "      <th>25%</th>\n",
       "      <td>-8.868583e-01</td>\n",
       "      <td>-8.958676e-01</td>\n",
       "      <td>-8.375799e-01</td>\n",
       "      <td>-8.643866e-01</td>\n",
       "      <td>-8.927711e-01</td>\n",
       "      <td>0.000000</td>\n",
       "    </tr>\n",
       "    <tr>\n",
       "      <th>50%</th>\n",
       "      <td>-1.112645e-02</td>\n",
       "      <td>-8.298247e-03</td>\n",
       "      <td>-1.009144e-02</td>\n",
       "      <td>-3.547002e-02</td>\n",
       "      <td>5.305774e-02</td>\n",
       "      <td>1.000000</td>\n",
       "    </tr>\n",
       "    <tr>\n",
       "      <th>75%</th>\n",
       "      <td>8.302105e-01</td>\n",
       "      <td>8.648876e-01</td>\n",
       "      <td>8.626759e-01</td>\n",
       "      <td>9.007623e-01</td>\n",
       "      <td>8.524134e-01</td>\n",
       "      <td>1.000000</td>\n",
       "    </tr>\n",
       "    <tr>\n",
       "      <th>max</th>\n",
       "      <td>1.762672e+00</td>\n",
       "      <td>1.711762e+00</td>\n",
       "      <td>1.722227e+00</td>\n",
       "      <td>1.702050e+00</td>\n",
       "      <td>1.696573e+00</td>\n",
       "      <td>1.000000</td>\n",
       "    </tr>\n",
       "  </tbody>\n",
       "</table>\n",
       "</div>"
      ],
      "text/plain": [
       "        Temperature      Pressure  Feed Flow rate  Coolant Flow rate  \\\n",
       "count  1.000000e+03  1.000000e+03    1.000000e+03       1.000000e+03   \n",
       "mean   1.094680e-15  2.059908e-15    5.720202e-15       3.753664e-15   \n",
       "std    1.000000e+00  1.000000e+00    1.000000e+00       1.000000e+00   \n",
       "min   -1.686144e+00 -1.714326e+00   -1.723793e+00      -1.693467e+00   \n",
       "25%   -8.868583e-01 -8.958676e-01   -8.375799e-01      -8.643866e-01   \n",
       "50%   -1.112645e-02 -8.298247e-03   -1.009144e-02      -3.547002e-02   \n",
       "75%    8.302105e-01  8.648876e-01    8.626759e-01       9.007623e-01   \n",
       "max    1.762672e+00  1.711762e+00    1.722227e+00       1.702050e+00   \n",
       "\n",
       "       Inlet reactant concentration         Test  \n",
       "count                  1.000000e+03  1000.000000  \n",
       "mean                  -1.909806e-15     0.585000  \n",
       "std                    1.000000e+00     0.492969  \n",
       "min                   -1.743823e+00     0.000000  \n",
       "25%                   -8.927711e-01     0.000000  \n",
       "50%                    5.305774e-02     1.000000  \n",
       "75%                    8.524134e-01     1.000000  \n",
       "max                    1.696573e+00     1.000000  "
      ]
     },
     "execution_count": 18,
     "metadata": {},
     "output_type": "execute_result"
    }
   ],
   "source": [
    "data.describe()\n"
   ]
  },
  {
   "cell_type": "code",
   "execution_count": 27,
   "metadata": {},
   "outputs": [
    {
     "name": "stdout",
     "output_type": "stream",
     "text": [
      "Train data size = 700 \n",
      "Test data size = 300 \n"
     ]
    }
   ],
   "source": [
    "\n",
    "train_data = data.copy().head(700)\n",
    "print(\"Train data size = {} \".format(train_data.shape[0]))\n",
    "x_train = train_data.drop(columns=['Test'],inplace=False)\n",
    "y_train = train_data['Test']\n",
    "\n",
    "test_data = data.copy().tail(300)\n",
    "x_test = test_data.drop(columns=['Test'],inplace=False)\n",
    "y_test = test_data['Test']\n",
    "print(\"Test data size = {} \".format(test_data.shape[0]))"
   ]
  },
  {
   "cell_type": "code",
   "execution_count": null,
   "metadata": {},
   "outputs": [],
   "source": []
  },
  {
   "cell_type": "code",
   "execution_count": 14,
   "metadata": {},
   "outputs": [],
   "source": [
    "y=np.array(data['Test'])\n",
    "data=data.drop(['Test'],axis=1)"
   ]
  },
  {
   "cell_type": "code",
   "execution_count": 15,
   "metadata": {},
   "outputs": [],
   "source": [
    "from sklearn.model_selection import train_test_split\n",
    "x_train,x_test,y_train,y_test=train_test_split(data,y,shuffle=True,stratify=y,random_state=21,test_size=0.3)"
   ]
  },
  {
   "cell_type": "code",
   "execution_count": 17,
   "metadata": {},
   "outputs": [],
   "source": [
    "from sklearn.linear_model import LogisticRegression"
   ]
  },
  {
   "cell_type": "code",
   "execution_count": 88,
   "metadata": {
    "scrolled": true
   },
   "outputs": [],
   "source": [
    "class LogisticRegression_inits:\n",
    "    def __init__(self,init_method='rand', lr=0.01, num_iter=100000, fit_intercept=False,):\n",
    "        self.lr = lr\n",
    "        self.num_iter = num_iter\n",
    "        self.fit_intercept = fit_intercept\n",
    "        self.init_method=init_method\n",
    "        #self.verbose=verbose\n",
    "    def __add_intercept(self, X):\n",
    "        intercept = np.ones((X.shape[0], 1))\n",
    "        return np.concatenate((intercept, X), axis=1)\n",
    "    \n",
    "    def __sigmoid(self, z):\n",
    "        return 1 / (1 + np.exp(-z))\n",
    "    #Loss: Binary cross entropy\n",
    "    def __loss(self, h, y):\n",
    "        return (-y * np.log(h) - (1 - y) * np.log(1 - h)).mean()\n",
    "    \n",
    "    def fit(self, X, y):\n",
    "        m = y.size\n",
    "        if self.fit_intercept:\n",
    "            X = self.__add_intercept(X)\n",
    "        # weights initialization\n",
    "        if self.init_method=='zeroes':\n",
    "            self.theta = np.float32([0]*X.shape[1])\n",
    "        elif self.init_method=='ones':\n",
    "            self.theta = np.float32([1]*X.shape[1])\n",
    "        elif self.init_method=='rand':\n",
    "            self.theta = np.random.normal(0,1,size=X.shape[1])\n",
    "        \n",
    "        \n",
    "        \n",
    "        for i in range(self.num_iter):\n",
    "            z = np.dot(X, self.theta)\n",
    "            h = self.__sigmoid(z)\n",
    "            if (i+1)%(self.num_iter/10)==0:\n",
    "                print(\"Iteration: {} \\t Logloss: {:.5f}\".format(i+1, np.mean(self.__loss(h,y))))\n",
    "            gradient = np.dot(X.T, (h - y))\n",
    "            self.theta -= self.lr * gradient/m\n",
    "            \n",
    "            \n",
    "    def weights(self):\n",
    "        print(self.theta.values())\n",
    "    def predict_prob(self, X):\n",
    "        if self.fit_intercept:\n",
    "            X = self.__add_intercept(X)\n",
    "    \n",
    "        return self.__sigmoid(np.dot(X, self.theta))\n",
    "    \n",
    "    def predict(self, X, threshold=0.5):\n",
    "        pred=self.predict_prob(X) #>= threshold\n",
    "        for i in range(pred.shape[0]):\n",
    "            if pred[i]>=threshold:\n",
    "                pred[i]=1\n",
    "            else:\n",
    "                pred[i]=0\n",
    "        \n",
    "        return pred"
   ]
  },
  {
   "cell_type": "code",
   "execution_count": 89,
   "metadata": {},
   "outputs": [
    {
     "name": "stdout",
     "output_type": "stream",
     "text": [
      "Iteration: 200 \t Logloss: 0.31759\n",
      "Iteration: 400 \t Logloss: 0.30956\n",
      "Iteration: 600 \t Logloss: 0.30825\n",
      "Iteration: 800 \t Logloss: 0.30792\n",
      "Iteration: 1000 \t Logloss: 0.30783\n",
      "Iteration: 1200 \t Logloss: 0.30781\n",
      "Iteration: 1400 \t Logloss: 0.30780\n",
      "Iteration: 1600 \t Logloss: 0.30780\n",
      "Iteration: 1800 \t Logloss: 0.30780\n",
      "Iteration: 2000 \t Logloss: 0.30780\n",
      "accuracy:  0.8933333333333333\n",
      "precision:  0.9532163742690059\n",
      "recall:  0.8716577540106952\n",
      "f_score:  0.9106145251396649\n",
      "Confusion Matrix\n",
      "{'tp': 163, 'tn': 105, 'fp': 8, 'fn': 24}\n"
     ]
    }
   ],
   "source": [
    "model_rand=LogisticRegression_inits('rand',lr = 0.1, num_iter=2000)\n",
    "model_rand.fit(x_train,y_train)\n",
    "y_pred=model_rand.predict(x_test,threshold = 0.4)\n",
    "cm=confusion_matrix(y_test,y_pred)\n",
    "acc=(cm['tp']+cm['tn'])/sum(cm.values())\n",
    "pre=(cm['tp'])/(cm['tp']+cm['fp'])\n",
    "rec=(cm['tp'])/(cm['tp']+cm['fn'])\n",
    "fsc= 2*pre*rec/(pre+rec)\n",
    "print('accuracy: ' ,acc)\n",
    "print('precision: ',pre)\n",
    "print('recall: ',rec)\n",
    "print('f_score: ',fsc)\n",
    "print(\"Confusion Matrix\")\n",
    "print(cm)"
   ]
  },
  {
   "cell_type": "code",
   "execution_count": 92,
   "metadata": {},
   "outputs": [
    {
     "name": "stdout",
     "output_type": "stream",
     "text": [
      "Iteration: 1000 \t Logloss: 0.57855\n",
      "Iteration: 2000 \t Logloss: 0.50708\n",
      "Iteration: 3000 \t Logloss: 0.46043\n",
      "Iteration: 4000 \t Logloss: 0.42846\n",
      "Iteration: 5000 \t Logloss: 0.40558\n",
      "Iteration: 6000 \t Logloss: 0.38860\n",
      "Iteration: 7000 \t Logloss: 0.37563\n",
      "Iteration: 8000 \t Logloss: 0.36547\n",
      "Iteration: 9000 \t Logloss: 0.35736\n",
      "Iteration: 10000 \t Logloss: 0.35076\n",
      "accuracy:  0.9233333333333333\n",
      "precision:  0.9555555555555556\n",
      "recall:  0.9197860962566845\n",
      "f_score:  0.9373297002724795\n",
      "Confusion Matrix\n",
      "{'tp': 172, 'tn': 105, 'fp': 8, 'fn': 15}\n"
     ]
    }
   ],
   "source": [
    "model0=LogisticRegression_inits('zeroes',num_iter=10000,lr=0.001)\n",
    "model0.fit(x_train,y_train)\n",
    "y_pred=model0.predict(x_test,threshold=0.4)\n",
    "cm=confusion_matrix(y_test,y_pred)\n",
    "acc=(cm['tp']+cm['tn'])/sum(cm.values())\n",
    "pre=(cm['tp'])/(cm['tp']+cm['fp'])\n",
    "rec=(cm['tp'])/(cm['tp']+cm['fn'])\n",
    "fsc= 2*pre*rec/(pre+rec)\n",
    "print('accuracy: ' ,acc)\n",
    "print('precision: ',pre)\n",
    "print('recall: ',rec)\n",
    "print('f_score: ',fsc)\n",
    "print(\"Confusion Matrix\")\n",
    "print(cm)"
   ]
  },
  {
   "cell_type": "code",
   "execution_count": 85,
   "metadata": {},
   "outputs": [
    {
     "name": "stdout",
     "output_type": "stream",
     "text": [
      "Iteration: 1 \t Logloss: 0.86487\n",
      "Iteration: 1001 \t Logloss: 0.30784\n",
      "Iteration: 2001 \t Logloss: 0.30780\n",
      "Iteration: 3001 \t Logloss: 0.30780\n",
      "Iteration: 4001 \t Logloss: 0.30780\n",
      "Iteration: 5001 \t Logloss: 0.30780\n",
      "Iteration: 6001 \t Logloss: 0.30780\n",
      "Iteration: 7001 \t Logloss: 0.30780\n",
      "Iteration: 8001 \t Logloss: 0.30780\n",
      "Iteration: 9001 \t Logloss: 0.30780\n",
      "accuracy:  0.8933333333333333\n",
      "precision:  0.9532163742690059\n",
      "recall:  0.8716577540106952\n",
      "f_score:  0.9106145251396649\n",
      "Confusion Matrix\n",
      "{'tp': 163, 'tn': 105, 'fp': 8, 'fn': 24}\n"
     ]
    }
   ],
   "source": [
    "model1=LogisticRegression_inits('ones',num_iter=10000,lr=0.01)\n",
    "model1.fit(x_train,y_train)\n",
    "y_pred=model1.predict(x_test,threshold=0.4)\n",
    "cm=confusion_matrix(y_test,y_pred)\n",
    "acc=(cm['tp']+cm['tn'])/sum(cm.values())\n",
    "pre=(cm['tp'])/(cm['tp']+cm['fp'])\n",
    "rec=(cm['tp'])/(cm['tp']+cm['fn'])\n",
    "fsc= 2*pre*rec/(pre+rec)\n",
    "print('accuracy: ' ,acc)\n",
    "print('precision: ',pre)\n",
    "print('recall: ',rec)\n",
    "print('f_score: ',fsc)\n",
    "print(\"Confusion Matrix\")\n",
    "print(cm)"
   ]
  },
  {
   "cell_type": "code",
   "execution_count": 58,
   "metadata": {},
   "outputs": [
    {
     "name": "stdout",
     "output_type": "stream",
     "text": [
      "[1. 0. 1. 0. 0. 1. 1. 1. 1. 0. 1. 1. 1. 1. 1. 1. 0. 1. 0. 0. 1. 1. 0. 1.\n",
      " 0. 0. 0. 0. 1. 1. 1. 0. 1. 1. 1. 1. 1. 1. 1. 1. 1. 1. 1. 0. 0. 0. 1. 1.\n",
      " 1. 1. 0. 0. 0. 1. 0. 1. 1. 1. 1. 1. 1. 1. 0. 0. 1. 0. 0. 0. 0. 1. 0. 1.\n",
      " 0. 0. 0. 1. 1. 1. 1. 1. 1. 0. 1. 1. 1. 1. 1. 1. 1. 0. 0. 0. 1. 1. 1. 1.\n",
      " 1. 0. 0. 0. 0. 1. 1. 1. 1. 0. 0. 0. 1. 1. 0. 0. 1. 0. 1. 1. 1. 0. 1. 1.\n",
      " 0. 0. 1. 0. 0. 1. 0. 1. 0. 0. 1. 0. 0. 1. 1. 1. 1. 1. 0. 1. 0. 0. 0. 0.\n",
      " 0. 0. 1. 1. 1. 1. 1. 0. 1. 0. 1. 0. 1. 0. 0. 1. 1. 0. 0. 1. 1. 1. 1. 1.\n",
      " 0. 0. 0. 0. 0. 1. 1. 0. 0. 0. 1. 1. 1. 0. 1. 0. 0. 1. 0. 1. 0. 0. 0. 1.\n",
      " 1. 1. 0. 1. 1. 0. 0. 0. 0. 1. 1. 1. 0. 0. 1. 1. 1. 1. 1. 1. 1. 1. 0. 0.\n",
      " 1. 0. 1. 1. 0. 0. 1. 0. 1. 0. 0. 0. 1. 0. 1. 0. 0. 1. 0. 0. 0. 0. 0. 0.\n",
      " 1. 1. 1. 1. 0. 0. 1. 1. 0. 0. 0. 1. 0. 1. 0. 0. 1. 0. 1. 1. 0. 0. 1. 1.\n",
      " 0. 1. 0. 0. 1. 1. 0. 0. 0. 0. 0. 0. 0. 0. 0. 1. 1. 0. 1. 1. 0. 1. 1. 1.\n",
      " 0. 0. 1. 1. 0. 0. 0. 0. 1. 0. 1. 0.]\n"
     ]
    },
    {
     "data": {
      "text/plain": [
       "dtype('float64')"
      ]
     },
     "execution_count": 58,
     "metadata": {},
     "output_type": "execute_result"
    }
   ],
   "source": []
  },
  {
   "cell_type": "code",
   "execution_count": 66,
   "metadata": {},
   "outputs": [
    {
     "name": "stdout",
     "output_type": "stream",
     "text": [
      "accuracy:  0.86\n",
      "precision:  0.9559748427672956\n",
      "recall:  0.8128342245989305\n",
      "f_score:  0.8786127167630058\n",
      "Confusion Matrix\n",
      "{'tp': 152, 'tn': 106, 'fp': 7, 'fn': 35}\n"
     ]
    }
   ],
   "source": []
  },
  {
   "cell_type": "code",
   "execution_count": 65,
   "metadata": {},
   "outputs": [],
   "source": [
    "y_test = y_test.to_numpy(dtype='int64')"
   ]
  },
  {
   "cell_type": "code",
   "execution_count": 69,
   "metadata": {},
   "outputs": [
    {
     "name": "stdout",
     "output_type": "stream",
     "text": [
      "accuracy:  0.86\n",
      "precision:  0.9559748427672956\n",
      "recall:  0.8128342245989305\n",
      "f_score:  0.8786127167630058\n",
      "Confusion Matrix\n",
      "{'tp': 152, 'tn': 106, 'fp': 7, 'fn': 35}\n"
     ]
    }
   ],
   "source": [
    "y_pred=model0.predict(x_test)\n",
    "cm=confusion_matrix(y_test,y_pred)\n",
    "acc=(cm['tp']+cm['tn'])/sum(cm.values())\n",
    "pre=(cm['tp'])/(cm['tp']+cm['fp'])\n",
    "rec=(cm['tp'])/(cm['tp']+cm['fn'])\n",
    "fsc= 2*pre*rec/(pre+rec)\n",
    "print('accuracy: ' ,acc)\n",
    "print('precision: ',pre)\n",
    "print('recall: ',rec)\n",
    "print('f_score: ',fsc)\n",
    "print(\"Confusion Matrix\")\n",
    "print(cm)"
   ]
  },
  {
   "cell_type": "code",
   "execution_count": 70,
   "metadata": {},
   "outputs": [
    {
     "name": "stdout",
     "output_type": "stream",
     "text": [
      "accuracy:  0.8933333333333333\n",
      "precision:  0.9532163742690059\n",
      "recall:  0.8716577540106952\n",
      "f_score:  0.9106145251396649\n",
      "Confusion Matrix\n",
      "{'tp': 163, 'tn': 105, 'fp': 8, 'fn': 24}\n"
     ]
    }
   ],
   "source": []
  },
  {
   "cell_type": "markdown",
   "metadata": {},
   "source": [
    "<h3>Comparison with scikitlearn's logistic regression</h3>"
   ]
  },
  {
   "cell_type": "code",
   "execution_count": 71,
   "metadata": {},
   "outputs": [
    {
     "name": "stderr",
     "output_type": "stream",
     "text": [
      "C:\\Users\\HP\\Anaconda3\\lib\\site-packages\\sklearn\\linear_model\\logistic.py:433: FutureWarning: Default solver will be changed to 'lbfgs' in 0.22. Specify a solver to silence this warning.\n",
      "  FutureWarning)\n"
     ]
    },
    {
     "data": {
      "text/plain": [
       "LogisticRegression(C=1.0, class_weight=None, dual=False, fit_intercept=True,\n",
       "          intercept_scaling=1, max_iter=100, multi_class='warn',\n",
       "          n_jobs=None, penalty='l2', random_state=None, solver='warn',\n",
       "          tol=0.0001, verbose=0, warm_start=False)"
      ]
     },
     "execution_count": 71,
     "metadata": {},
     "output_type": "execute_result"
    }
   ],
   "source": [
    "from sklearn.linear_model import LogisticRegression\n",
    "lr=LogisticRegression()\n",
    "lr.fit(x_train,y_train)\n"
   ]
  },
  {
   "cell_type": "code",
   "execution_count": 72,
   "metadata": {},
   "outputs": [
    {
     "name": "stdout",
     "output_type": "stream",
     "text": [
      "accuracy:  0.9433333333333334\n",
      "precision:  0.9473684210526315\n",
      "recall:  0.9625668449197861\n",
      "f_score:  0.9549071618037135\n",
      "Confusion Matrix\n",
      "{'tp': 180, 'tn': 103, 'fp': 10, 'fn': 7}\n"
     ]
    }
   ],
   "source": [
    "y_pred=lr.predict(x_test)\n",
    "cm=confusion_matrix(y_test,y_pred)\n",
    "acc=(cm['tp']+cm['tn'])/sum(cm.values())\n",
    "pre=(cm['tp'])/(cm['tp']+cm['fp'])\n",
    "rec=(cm['tp'])/(cm['tp']+cm['fn'])\n",
    "fsc= 2*pre*rec/(pre+rec)\n",
    "print('accuracy: ' ,acc)\n",
    "print('precision: ',pre)\n",
    "print('recall: ',rec)\n",
    "print('f_score: ',fsc)\n",
    "print(\"Confusion Matrix\")\n",
    "print(cm)"
   ]
  },
  {
   "cell_type": "code",
   "execution_count": 64,
   "metadata": {},
   "outputs": [
    {
     "name": "stdout",
     "output_type": "stream",
     "text": [
      "585   1000\n"
     ]
    }
   ],
   "source": [
    "num_ones = 0\n",
    "for i in range(y.size):\n",
    "    if y[i] == 1:\n",
    "        num_ones += 1\n",
    "print(num_ones,\" \",y.size)"
   ]
  },
  {
   "cell_type": "code",
   "execution_count": null,
   "metadata": {},
   "outputs": [],
   "source": []
  }
 ],
 "metadata": {
  "kernelspec": {
   "display_name": "Python 3",
   "language": "python",
   "name": "python3"
  },
  "language_info": {
   "codemirror_mode": {
    "name": "ipython",
    "version": 3
   },
   "file_extension": ".py",
   "mimetype": "text/x-python",
   "name": "python",
   "nbconvert_exporter": "python",
   "pygments_lexer": "ipython3",
   "version": "3.7.3"
  }
 },
 "nbformat": 4,
 "nbformat_minor": 2
}
