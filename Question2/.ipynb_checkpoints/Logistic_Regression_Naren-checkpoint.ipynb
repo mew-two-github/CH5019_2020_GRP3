{
 "cells": [
  {
   "cell_type": "code",
   "execution_count": 83,
   "metadata": {},
   "outputs": [],
   "source": [
    "import pandas as pd\n",
    "import numpy as np\n",
    "import matplotlib.pyplot as plt\n",
    "from sklearn.metrics import accuracy_score as accuracy,f1_score as f1,confusion_matrix as cfm\n",
    "from sklearn.preprocessing import LabelEncoder"
   ]
  },
  {
   "cell_type": "code",
   "execution_count": 11,
   "metadata": {},
   "outputs": [],
   "source": [
    "data=pd.read_excel('Dataset_Question2.xlsx')"
   ]
  },
  {
   "cell_type": "code",
   "execution_count": 12,
   "metadata": {},
   "outputs": [
    {
     "data": {
      "text/html": [
       "<div>\n",
       "<style scoped>\n",
       "    .dataframe tbody tr th:only-of-type {\n",
       "        vertical-align: middle;\n",
       "    }\n",
       "\n",
       "    .dataframe tbody tr th {\n",
       "        vertical-align: top;\n",
       "    }\n",
       "\n",
       "    .dataframe thead th {\n",
       "        text-align: right;\n",
       "    }\n",
       "</style>\n",
       "<table border=\"1\" class=\"dataframe\">\n",
       "  <thead>\n",
       "    <tr style=\"text-align: right;\">\n",
       "      <th></th>\n",
       "      <th>Temperature</th>\n",
       "      <th>Pressure</th>\n",
       "      <th>Feed Flow rate</th>\n",
       "      <th>Coolant Flow rate</th>\n",
       "      <th>Inlet reactant concentration</th>\n",
       "      <th>Test</th>\n",
       "    </tr>\n",
       "  </thead>\n",
       "  <tbody>\n",
       "    <tr>\n",
       "      <td>0</td>\n",
       "      <td>406.86</td>\n",
       "      <td>17.66</td>\n",
       "      <td>121.83</td>\n",
       "      <td>2109.20</td>\n",
       "      <td>0.1033</td>\n",
       "      <td>Pass</td>\n",
       "    </tr>\n",
       "    <tr>\n",
       "      <td>1</td>\n",
       "      <td>693.39</td>\n",
       "      <td>24.66</td>\n",
       "      <td>133.18</td>\n",
       "      <td>3138.96</td>\n",
       "      <td>0.3785</td>\n",
       "      <td>Pass</td>\n",
       "    </tr>\n",
       "    <tr>\n",
       "      <td>2</td>\n",
       "      <td>523.10</td>\n",
       "      <td>23.23</td>\n",
       "      <td>146.55</td>\n",
       "      <td>1058.24</td>\n",
       "      <td>0.4799</td>\n",
       "      <td>Fail</td>\n",
       "    </tr>\n",
       "    <tr>\n",
       "      <td>3</td>\n",
       "      <td>612.86</td>\n",
       "      <td>40.97</td>\n",
       "      <td>94.44</td>\n",
       "      <td>1325.12</td>\n",
       "      <td>0.3147</td>\n",
       "      <td>Fail</td>\n",
       "    </tr>\n",
       "    <tr>\n",
       "      <td>4</td>\n",
       "      <td>500.28</td>\n",
       "      <td>37.44</td>\n",
       "      <td>185.48</td>\n",
       "      <td>2474.51</td>\n",
       "      <td>0.2284</td>\n",
       "      <td>Pass</td>\n",
       "    </tr>\n",
       "  </tbody>\n",
       "</table>\n",
       "</div>"
      ],
      "text/plain": [
       "   Temperature  Pressure  Feed Flow rate  Coolant Flow rate  \\\n",
       "0       406.86     17.66          121.83            2109.20   \n",
       "1       693.39     24.66          133.18            3138.96   \n",
       "2       523.10     23.23          146.55            1058.24   \n",
       "3       612.86     40.97           94.44            1325.12   \n",
       "4       500.28     37.44          185.48            2474.51   \n",
       "\n",
       "   Inlet reactant concentration  Test  \n",
       "0                        0.1033  Pass  \n",
       "1                        0.3785  Pass  \n",
       "2                        0.4799  Fail  \n",
       "3                        0.3147  Fail  \n",
       "4                        0.2284  Pass  "
      ]
     },
     "execution_count": 12,
     "metadata": {},
     "output_type": "execute_result"
    }
   ],
   "source": [
    "data.head()"
   ]
  },
  {
   "cell_type": "code",
   "execution_count": 13,
   "metadata": {},
   "outputs": [
    {
     "data": {
      "text/plain": [
       "(1000, 6)"
      ]
     },
     "execution_count": 13,
     "metadata": {},
     "output_type": "execute_result"
    }
   ],
   "source": [
    "data.shape"
   ]
  },
  {
   "cell_type": "code",
   "execution_count": 15,
   "metadata": {},
   "outputs": [
    {
     "data": {
      "text/plain": [
       "count     1000\n",
       "unique       2\n",
       "top       Pass\n",
       "freq       585\n",
       "Name: Test, dtype: object"
      ]
     },
     "execution_count": 15,
     "metadata": {},
     "output_type": "execute_result"
    }
   ],
   "source": [
    "data['Test'].describe()"
   ]
  },
  {
   "cell_type": "code",
   "execution_count": 85,
   "metadata": {},
   "outputs": [
    {
     "data": {
      "text/html": [
       "<div>\n",
       "<style scoped>\n",
       "    .dataframe tbody tr th:only-of-type {\n",
       "        vertical-align: middle;\n",
       "    }\n",
       "\n",
       "    .dataframe tbody tr th {\n",
       "        vertical-align: top;\n",
       "    }\n",
       "\n",
       "    .dataframe thead th {\n",
       "        text-align: right;\n",
       "    }\n",
       "</style>\n",
       "<table border=\"1\" class=\"dataframe\">\n",
       "  <thead>\n",
       "    <tr style=\"text-align: right;\">\n",
       "      <th></th>\n",
       "      <th>Temperature</th>\n",
       "      <th>Pressure</th>\n",
       "      <th>Feed Flow rate</th>\n",
       "      <th>Coolant Flow rate</th>\n",
       "      <th>Inlet reactant concentration</th>\n",
       "    </tr>\n",
       "  </thead>\n",
       "  <tbody>\n",
       "    <tr>\n",
       "      <td>count</td>\n",
       "      <td>1000.00000</td>\n",
       "      <td>1000.000000</td>\n",
       "      <td>1000.000000</td>\n",
       "      <td>1000.000000</td>\n",
       "      <td>1000.000000</td>\n",
       "    </tr>\n",
       "    <tr>\n",
       "      <td>mean</td>\n",
       "      <td>546.76643</td>\n",
       "      <td>25.493270</td>\n",
       "      <td>125.029060</td>\n",
       "      <td>2295.797770</td>\n",
       "      <td>0.302692</td>\n",
       "    </tr>\n",
       "    <tr>\n",
       "      <td>std</td>\n",
       "      <td>86.85878</td>\n",
       "      <td>14.252407</td>\n",
       "      <td>43.508159</td>\n",
       "      <td>763.680625</td>\n",
       "      <td>0.116062</td>\n",
       "    </tr>\n",
       "    <tr>\n",
       "      <td>min</td>\n",
       "      <td>400.31000</td>\n",
       "      <td>1.060000</td>\n",
       "      <td>50.030000</td>\n",
       "      <td>1002.530000</td>\n",
       "      <td>0.100300</td>\n",
       "    </tr>\n",
       "    <tr>\n",
       "      <td>25%</td>\n",
       "      <td>469.73500</td>\n",
       "      <td>12.725000</td>\n",
       "      <td>88.587500</td>\n",
       "      <td>1635.682500</td>\n",
       "      <td>0.199075</td>\n",
       "    </tr>\n",
       "    <tr>\n",
       "      <td>50%</td>\n",
       "      <td>545.80000</td>\n",
       "      <td>25.375000</td>\n",
       "      <td>124.590000</td>\n",
       "      <td>2268.710000</td>\n",
       "      <td>0.308850</td>\n",
       "    </tr>\n",
       "    <tr>\n",
       "      <td>75%</td>\n",
       "      <td>618.87750</td>\n",
       "      <td>37.820000</td>\n",
       "      <td>162.562500</td>\n",
       "      <td>2983.692500</td>\n",
       "      <td>0.401625</td>\n",
       "    </tr>\n",
       "    <tr>\n",
       "      <td>max</td>\n",
       "      <td>699.87000</td>\n",
       "      <td>49.890000</td>\n",
       "      <td>199.960000</td>\n",
       "      <td>3595.620000</td>\n",
       "      <td>0.499600</td>\n",
       "    </tr>\n",
       "  </tbody>\n",
       "</table>\n",
       "</div>"
      ],
      "text/plain": [
       "       Temperature     Pressure  Feed Flow rate  Coolant Flow rate  \\\n",
       "count   1000.00000  1000.000000     1000.000000        1000.000000   \n",
       "mean     546.76643    25.493270      125.029060        2295.797770   \n",
       "std       86.85878    14.252407       43.508159         763.680625   \n",
       "min      400.31000     1.060000       50.030000        1002.530000   \n",
       "25%      469.73500    12.725000       88.587500        1635.682500   \n",
       "50%      545.80000    25.375000      124.590000        2268.710000   \n",
       "75%      618.87750    37.820000      162.562500        2983.692500   \n",
       "max      699.87000    49.890000      199.960000        3595.620000   \n",
       "\n",
       "       Inlet reactant concentration  \n",
       "count                   1000.000000  \n",
       "mean                       0.302692  \n",
       "std                        0.116062  \n",
       "min                        0.100300  \n",
       "25%                        0.199075  \n",
       "50%                        0.308850  \n",
       "75%                        0.401625  \n",
       "max                        0.499600  "
      ]
     },
     "execution_count": 85,
     "metadata": {},
     "output_type": "execute_result"
    }
   ],
   "source": [
    "data.describe()"
   ]
  },
  {
   "cell_type": "code",
   "execution_count": 16,
   "metadata": {},
   "outputs": [],
   "source": [
    "\n",
    "le=LabelEncoder()\n",
    "data['Test']=le.fit_transform(data['Test'])"
   ]
  },
  {
   "cell_type": "code",
   "execution_count": 17,
   "metadata": {},
   "outputs": [
    {
     "data": {
      "text/html": [
       "<div>\n",
       "<style scoped>\n",
       "    .dataframe tbody tr th:only-of-type {\n",
       "        vertical-align: middle;\n",
       "    }\n",
       "\n",
       "    .dataframe tbody tr th {\n",
       "        vertical-align: top;\n",
       "    }\n",
       "\n",
       "    .dataframe thead th {\n",
       "        text-align: right;\n",
       "    }\n",
       "</style>\n",
       "<table border=\"1\" class=\"dataframe\">\n",
       "  <thead>\n",
       "    <tr style=\"text-align: right;\">\n",
       "      <th></th>\n",
       "      <th>Temperature</th>\n",
       "      <th>Pressure</th>\n",
       "      <th>Feed Flow rate</th>\n",
       "      <th>Coolant Flow rate</th>\n",
       "      <th>Inlet reactant concentration</th>\n",
       "      <th>Test</th>\n",
       "    </tr>\n",
       "  </thead>\n",
       "  <tbody>\n",
       "    <tr>\n",
       "      <td>0</td>\n",
       "      <td>406.86</td>\n",
       "      <td>17.66</td>\n",
       "      <td>121.83</td>\n",
       "      <td>2109.20</td>\n",
       "      <td>0.1033</td>\n",
       "      <td>1</td>\n",
       "    </tr>\n",
       "    <tr>\n",
       "      <td>1</td>\n",
       "      <td>693.39</td>\n",
       "      <td>24.66</td>\n",
       "      <td>133.18</td>\n",
       "      <td>3138.96</td>\n",
       "      <td>0.3785</td>\n",
       "      <td>1</td>\n",
       "    </tr>\n",
       "    <tr>\n",
       "      <td>2</td>\n",
       "      <td>523.10</td>\n",
       "      <td>23.23</td>\n",
       "      <td>146.55</td>\n",
       "      <td>1058.24</td>\n",
       "      <td>0.4799</td>\n",
       "      <td>0</td>\n",
       "    </tr>\n",
       "    <tr>\n",
       "      <td>3</td>\n",
       "      <td>612.86</td>\n",
       "      <td>40.97</td>\n",
       "      <td>94.44</td>\n",
       "      <td>1325.12</td>\n",
       "      <td>0.3147</td>\n",
       "      <td>0</td>\n",
       "    </tr>\n",
       "    <tr>\n",
       "      <td>4</td>\n",
       "      <td>500.28</td>\n",
       "      <td>37.44</td>\n",
       "      <td>185.48</td>\n",
       "      <td>2474.51</td>\n",
       "      <td>0.2284</td>\n",
       "      <td>1</td>\n",
       "    </tr>\n",
       "  </tbody>\n",
       "</table>\n",
       "</div>"
      ],
      "text/plain": [
       "   Temperature  Pressure  Feed Flow rate  Coolant Flow rate  \\\n",
       "0       406.86     17.66          121.83            2109.20   \n",
       "1       693.39     24.66          133.18            3138.96   \n",
       "2       523.10     23.23          146.55            1058.24   \n",
       "3       612.86     40.97           94.44            1325.12   \n",
       "4       500.28     37.44          185.48            2474.51   \n",
       "\n",
       "   Inlet reactant concentration  Test  \n",
       "0                        0.1033     1  \n",
       "1                        0.3785     1  \n",
       "2                        0.4799     0  \n",
       "3                        0.3147     0  \n",
       "4                        0.2284     1  "
      ]
     },
     "execution_count": 17,
     "metadata": {},
     "output_type": "execute_result"
    }
   ],
   "source": [
    "data.head()"
   ]
  },
  {
   "cell_type": "code",
   "execution_count": 18,
   "metadata": {},
   "outputs": [],
   "source": [
    "y=data['Test']\n",
    "data=data.drop(['Test'],axis=1)"
   ]
  },
  {
   "cell_type": "code",
   "execution_count": 22,
   "metadata": {},
   "outputs": [],
   "source": [
    "from sklearn.model_selection import train_test_split\n",
    "x_train,x_test,y_train,y_test=train_test_split(data,y,shuffle=True,stratify=y,random_state=0,test_size=0.3)"
   ]
  },
  {
   "cell_type": "code",
   "execution_count": 29,
   "metadata": {},
   "outputs": [],
   "source": [
    "from sklearn.linear_model import LogisticRegression"
   ]
  },
  {
   "cell_type": "code",
   "execution_count": 62,
   "metadata": {},
   "outputs": [],
   "source": [
    "class LogisticRegression:\n",
    "    def __init__(self, lr=0.01, num_iter=100000, fit_intercept=True):\n",
    "        self.lr = lr\n",
    "        self.num_iter = num_iter\n",
    "        self.fit_intercept = fit_intercept\n",
    "        #self.verbose=verbose\n",
    "    def __add_intercept(self, X):\n",
    "        intercept = np.ones((X.shape[0], 1))\n",
    "        return np.concatenate((intercept, X), axis=1)\n",
    "    \n",
    "    def __sigmoid(self, z):\n",
    "        return 1 / (1 + np.exp(-z))\n",
    "    #Loss: Binary cross entropy\n",
    "    def __loss(self, h, y):\n",
    "        return (-y * np.log(h) - (1 - y) * np.log(1 - h)).mean()\n",
    "    \n",
    "    def fit(self, X, y):\n",
    "        if self.fit_intercept:\n",
    "            X = self.__add_intercept(X)\n",
    "        \n",
    "        # weights initialization\n",
    "        self.theta = np.random.normal(size=X.shape[1])\n",
    "        \n",
    "        for i in range(self.num_iter):\n",
    "            z = np.dot(X, self.theta)\n",
    "            h = self.__sigmoid(z)\n",
    "            gradient = np.dot(X.T, (h - y)) / y.size\n",
    "            self.theta -= self.lr * gradient\n",
    "            \n",
    "            \n",
    "    \n",
    "    def predict_prob(self, X):\n",
    "        if self.fit_intercept:\n",
    "            X = self.__add_intercept(X)\n",
    "    \n",
    "        return self.__sigmoid(np.dot(X, self.theta))\n",
    "    \n",
    "    def predict(self, X, threshold):\n",
    "        pred=self.predict_prob(X) #>= threshold\n",
    "        for i in range(pred.shape[0]):\n",
    "            if pred[i]>=threshold:\n",
    "                pred[i]=1\n",
    "            else:\n",
    "                pred[i]=0\n",
    "        \n",
    "        return pred\n",
    "            "
   ]
  },
  {
   "cell_type": "code",
   "execution_count": 81,
   "metadata": {},
   "outputs": [
    {
     "name": "stdout",
     "output_type": "stream",
     "text": [
      "accuracy:  0.8866666666666667\n",
      "f_score:  0.9095744680851063\n",
      "Confusion Matrix\n",
      "[[ 95  30]\n",
      " [  4 171]]\n"
     ]
    }
   ],
   "source": [
    "log_reg=LogisticRegression(0.001)\n",
    "log_reg.fit(x_train,y_train)\n",
    "y_pred=log_reg.predict(x_test,0.5)\n",
    "print('accuracy: ' ,accuracy(y_test,y_pred))\n",
    "print('f_score: ',f1(y_test,y_pred))\n",
    "print(\"Confusion Matrix\")\n",
    "print(cfm(y_test,y_pred))"
   ]
  },
  {
   "cell_type": "code",
   "execution_count": 70,
   "metadata": {},
   "outputs": [],
   "source": [
    "y_pred=log_reg.predict(x_test,0.5)"
   ]
  },
  {
   "cell_type": "code",
   "execution_count": 75,
   "metadata": {},
   "outputs": [],
   "source": []
  },
  {
   "cell_type": "code",
   "execution_count": 76,
   "metadata": {},
   "outputs": [
    {
     "name": "stdout",
     "output_type": "stream",
     "text": [
      "accuracy:  0.8866666666666667\n",
      "f_score:  0.9090909090909092\n"
     ]
    }
   ],
   "source": [
    "print('accuracy: ' ,accuracy(y_test,y_pred))\n",
    "print('f_score: ',f1(y_test,y_pred))"
   ]
  },
  {
   "cell_type": "code",
   "execution_count": 78,
   "metadata": {},
   "outputs": [
    {
     "data": {
      "text/plain": [
       "array([[ 96,  29],\n",
       "       [  5, 170]], dtype=int64)"
      ]
     },
     "execution_count": 78,
     "metadata": {},
     "output_type": "execute_result"
    }
   ],
   "source": [
    "cfm(y_test,y_pred)"
   ]
  },
  {
   "cell_type": "code",
   "execution_count": 82,
   "metadata": {},
   "outputs": [
    {
     "name": "stdout",
     "output_type": "stream",
     "text": [
      "accuracy:  0.8966666666666666\n",
      "f_score:  0.9101449275362319\n",
      "Confusion Matrix\n",
      "[[112  13]\n",
      " [ 18 157]]\n"
     ]
    },
    {
     "name": "stderr",
     "output_type": "stream",
     "text": [
      "C:\\Users\\naren\\Anaconda3\\lib\\site-packages\\sklearn\\linear_model\\logistic.py:432: FutureWarning: Default solver will be changed to 'lbfgs' in 0.22. Specify a solver to silence this warning.\n",
      "  FutureWarning)\n"
     ]
    }
   ],
   "source": [
    "from sklearn.linear_model import LogisticRegression\n",
    "lib_log=LogisticRegression()\n",
    "lib_log.fit(x_train,y_train)\n",
    "y_pred=lib_log.predict(x_test)\n",
    "print('accuracy: ' ,accuracy(y_test,y_pred))\n",
    "print('f_score: ',f1(y_test,y_pred))\n",
    "print(\"Confusion Matrix\")\n",
    "print(cfm(y_test,y_pred))"
   ]
  },
  {
   "cell_type": "code",
   "execution_count": null,
   "metadata": {},
   "outputs": [],
   "source": []
  }
 ],
 "metadata": {
  "kernelspec": {
   "display_name": "Python 3",
   "language": "python",
   "name": "python3"
  },
  "language_info": {
   "codemirror_mode": {
    "name": "ipython",
    "version": 3
   },
   "file_extension": ".py",
   "mimetype": "text/x-python",
   "name": "python",
   "nbconvert_exporter": "python",
   "pygments_lexer": "ipython3",
   "version": "3.7.3"
  }
 },
 "nbformat": 4,
 "nbformat_minor": 2
}
